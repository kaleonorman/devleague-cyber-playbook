{
 "cells": [
  {
   "cell_type": "markdown",
   "metadata": {},
   "source": [
    "# Process Explorer\n",
    "\n",
    "- List of processes running on the system\n",
    "- CPU and memory usage\n",
    "- Command Line and Services when a process is highlighted\n",
    "- Properties shows path, performance, graph, threads, strings associated with the process\n",
    "- Checks viruses and can kill process.\n",
    "\n",
    "# Autoruns\n",
    "- Views/control what programs are running during startup\n",
    "- Can check for viruses through tabs (mostly shown on Services, Devices, or Logon). Check the publisher and file location. Right-click and search online.\n",
    "\n",
    "# TCPView\n",
    "- Shows process with protocol, local address, packets, and bytes being sent.\n",
    "- Can be used for diagnostics of any network issues, troubleshoot for viruses.\n",
    "- Can view process properties and end tasks."
   ]
  }
 ],
 "metadata": {
  "kernelspec": {
   "display_name": "Python 3",
   "language": "python",
   "name": "python3"
  },
  "language_info": {
   "codemirror_mode": {
    "name": "ipython",
    "version": 3
   },
   "file_extension": ".py",
   "mimetype": "text/x-python",
   "name": "python",
   "nbconvert_exporter": "python",
   "pygments_lexer": "ipython3",
   "version": "3.6.0"
  }
 },
 "nbformat": 4,
 "nbformat_minor": 2
}
