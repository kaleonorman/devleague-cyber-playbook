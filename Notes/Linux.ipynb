{
 "cells": [
  {
   "cell_type": "markdown",
   "metadata": {},
   "source": [
    "# Access Control List\n",
    "\n",
    "ICACLS\n",
    "- grant and inheritance\n",
    "\n",
    "- How to manage Windows Infrastructure\n",
    "\n",
    "- concepts\n",
    "\n",
    "# Intro to Linux\n",
    "\n",
    "## Users, Groups, and Permissions\n",
    "- d - directory\n",
    "- \"-\" - file\n",
    "- 3 sequences of read, write, execute\n",
    "- Users, Groups, Everyone\n",
    "\n",
    "- ll = ls -l\n",
    "\n",
    "Only One Root\n",
    "- NEVER RUN ROOT!\n",
    "\n",
    "- Applications - user-friendly tools\n",
    "- Shell/CLI - Interacts with the kernel in a human language\n",
    "- Kernel - communicates with hardware in machine language\n",
    "\n",
    "## Structure of a file system\n",
    "ls /\n",
    "\"/\" - root\n",
    "man hier\n",
    "\n",
    "useradd vs. adduser\n",
    "\n",
    "cat /etc/passwd\n",
    "cat /etc/shadow\n",
    "cat /etc/group\n",
    "\n",
    "\"man\" - manpages\n",
    "usermod -aG\n",
    "groupadd\n",
    "groupmod\n",
    "groupdel\n",
    "sudo su\n",
    "su [username]\n",
    "chown - change ownership\n",
    "\n",
    "\n",
    "# Principle of Least Privilege\n",
    "    ## NO\n"
   ]
  }
 ],
 "metadata": {
  "kernelspec": {
   "display_name": "Python 3",
   "language": "python",
   "name": "python3"
  },
  "language_info": {
   "codemirror_mode": {
    "name": "ipython",
    "version": 3
   },
   "file_extension": ".py",
   "mimetype": "text/x-python",
   "name": "python",
   "nbconvert_exporter": "python",
   "pygments_lexer": "ipython3",
   "version": "3.6.0"
  }
 },
 "nbformat": 4,
 "nbformat_minor": 2
}
