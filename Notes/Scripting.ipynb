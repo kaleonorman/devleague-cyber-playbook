{
 "cells": [
  {
   "cell_type": "markdown",
   "metadata": {},
   "source": [
    "Git\n",
    "Bash\n",
    "Windows Utilities\n",
    "Git-Based - using Git commit\n",
    "Reading Arguments\n",
    "Logic\n",
    "Writing Functions\n",
    "TEST AND VALIDATE - don't write whole script once\n",
    "\n",
    "1. Small Iteractions\n",
    "2. Git Commit (commit early, commit often)\n",
    "3. Comment your code\n",
    "4. Ask you peers\n",
    "\n",
    "Start bash\n",
    "```\n",
    "bat\n",
    "```\n",
    "Calling Functions\n",
    "goto - \n",
    "\n",
    "call - \n",
    "\n",
    "Running bash from CMD\n",
    "```\n",
    "start filename.bat\n",
    "```\n",
    "\n"
   ]
  }
 ],
 "metadata": {
  "kernelspec": {
   "display_name": "Python 3",
   "language": "python",
   "name": "python3"
  },
  "language_info": {
   "codemirror_mode": {
    "name": "ipython",
    "version": 3
   },
   "file_extension": ".py",
   "mimetype": "text/x-python",
   "name": "python",
   "nbconvert_exporter": "python",
   "pygments_lexer": "ipython3",
   "version": "3.6.0"
  }
 },
 "nbformat": 4,
 "nbformat_minor": 2
}
