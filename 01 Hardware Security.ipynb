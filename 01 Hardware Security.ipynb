{
 "cells": [
  {
   "cell_type": "markdown",
   "metadata": {},
   "source": [
    "# Hardware Security\n",
    "\n",
    "BIOS-Level Password\n",
    "\n",
    "- Macs -> UEFI\n",
    "\n",
    "- 2 Levels of Password\n",
    "\n",
    "Locking down boot order in BIOS\n",
    "1. Drive Encryption\n",
    "2. TLM or Trust Platform Module\n",
    "\n",
    "(http://resources.infosecinstitute.com/anatomy-of-bios-security/)"
   ]
  }
 ],
 "metadata": {
  "kernelspec": {
   "display_name": "Python 3",
   "language": "python",
   "name": "python3"
  },
  "language_info": {
   "codemirror_mode": {
    "name": "ipython",
    "version": 3
   },
   "file_extension": ".py",
   "mimetype": "text/x-python",
   "name": "python",
   "nbconvert_exporter": "python",
   "pygments_lexer": "ipython3",
   "version": "3.6.0"
  }
 },
 "nbformat": 4,
 "nbformat_minor": 2
}
