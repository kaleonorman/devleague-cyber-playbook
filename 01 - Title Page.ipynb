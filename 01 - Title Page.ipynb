{
 "cells": [
  {
   "cell_type": "markdown",
   "metadata": {},
   "source": [
    "# Learning Github Basics\n",
    "\n",
    "Coding\n",
    "```\n",
    "def hello():\n",
    "    print(hello)\n",
    "```\n",
    "Font types\n",
    "\n",
    "**Bold**, *Italic*\n",
    "\n",
    "Bullets\n",
    "- Level 1\n",
    "    - Level 2\n",
    "        - Level 3\n",
    "        \n",
    "Hi\n",
    "\n",
    "- [ ] Hello\n",
    "- [x] Goodbye\n"
   ]
  },
  {
   "cell_type": "markdown",
   "metadata": {
    "collapsed": true
   },
   "source": [
    "- []hello"
   ]
  }
 ],
 "metadata": {
  "kernelspec": {
   "display_name": "Python 3",
   "language": "python",
   "name": "python3"
  },
  "language_info": {
   "codemirror_mode": {
    "name": "ipython",
    "version": 3
   },
   "file_extension": ".py",
   "mimetype": "text/x-python",
   "name": "python",
   "nbconvert_exporter": "python",
   "pygments_lexer": "ipython3",
   "version": "3.6.0"
  }
 },
 "nbformat": 4,
 "nbformat_minor": 2
}
